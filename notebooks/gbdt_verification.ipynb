{
 "cells": [
  {
   "cell_type": "markdown",
   "metadata": {},
   "source": "# Notebook: GBDTs Explained"
  },
  {
   "cell_type": "markdown",
   "metadata": {},
   "source": [
    "## Setup: Import Libraries and Generate Data"
   ]
  },
  {
   "cell_type": "code",
   "metadata": {
    "ExecuteTime": {
     "end_time": "2025-10-14T09:45:22.731104Z",
     "start_time": "2025-10-14T09:45:12.302824Z"
    }
   },
   "source": [
    "import numpy as np\n",
    "import lightgbm as lgb\n",
    "from sklearn.datasets import make_regression\n",
    "from sklearn.model_selection import train_test_split\n",
    "\n",
    "# Set random seed for reproducibility\n",
    "np.random.seed(123)\n",
    "\n",
    "# Generate synthetic regression data\n",
    "X, y = make_regression(n_samples=1000, n_features=10, noise=10, random_state=123)\n",
    "X_train, X_test, y_train, y_test = train_test_split(X, y, test_size=0.2, random_state=123)"
   ],
   "outputs": [],
   "execution_count": 1
  },
  {
   "cell_type": "markdown",
   "metadata": {},
   "source": [
    "## Train a Simple LightGBM Model\n",
    "\n",
    "We'll train a model with:\n",
    "- **1 tree** (to make verification easier)\n",
    "- **boost_from_average=False** (so initial predictions are 0)\n",
    "- **learning_rate=0.3** and **lambda_l2=0.5** (to test the full formula)"
   ]
  },
  {
   "cell_type": "code",
   "metadata": {
    "ExecuteTime": {
     "end_time": "2025-10-14T09:45:22.759558Z",
     "start_time": "2025-10-14T09:45:22.740913Z"
    }
   },
   "source": [
    "np.random.seed(123)\n",
    "\n",
    "# Define model parameters\n",
    "params = {\n",
    "    'objective': 'regression',\n",
    "    'metric': 'mse',\n",
    "    'num_leaves': 15,\n",
    "    'learning_rate': 0.3,\n",
    "    'lambda_l2': 0.5,\n",
    "    'verbose': -1,\n",
    "    'seed': 123,\n",
    "    'boost_from_average': False,  # Start from 0 as initial prediction\n",
    "}\n",
    "\n",
    "# Train model\n",
    "train_data = lgb.Dataset(X_train, label=y_train)\n",
    "model = lgb.train(params, train_data, num_boost_round=1)\n",
    "\n",
    "print(f\"Model trained with {params['num_leaves']} leaves\")\n",
    "print(f\"Learning rate η = {params['learning_rate']}\")\n",
    "print(f\"Regularization λ = {params['lambda_l2']}\")"
   ],
   "outputs": [
    {
     "name": "stdout",
     "output_type": "stream",
     "text": [
      "Model trained with 15 leaves\n",
      "Learning rate η = 0.3\n",
      "Regularization λ = 0.5\n"
     ]
    }
   ],
   "execution_count": 2
  },
  {
   "cell_type": "markdown",
   "metadata": {},
   "source": [
    "## Compute Gradients and Hessians\n",
    "\n",
    "For the first tree with `boost_from_average=False`, initial predictions are 0.\n",
    "\n",
    "For MSE loss:\n",
    "- $g_i = \\hat{y}_i - y_i = 0 - y_i = -y_i$\n",
    "- $h_i = 1$ (constant)"
   ]
  },
  {
   "cell_type": "code",
   "metadata": {
    "ExecuteTime": {
     "end_time": "2025-10-14T09:45:22.795332Z",
     "start_time": "2025-10-14T09:45:22.791767Z"
    }
   },
   "source": [
    "# Initial predictions are 0\n",
    "preds_initial = np.zeros(len(X_train))\n",
    "\n",
    "# Compute gradients and Hessians for MSE\n",
    "gradients = preds_initial - y_train  # g_i = ŷ_i - y_i = -y_i\n",
    "hessians = np.ones(len(y_train))     # h_i = 1"
   ],
   "outputs": [],
   "execution_count": 3
  },
  {
   "cell_type": "markdown",
   "metadata": {},
   "source": [
    "## Extract Leaf Assignments and Actual Leaf Weights\n",
    "\n",
    "We'll get:\n",
    "1. Which leaf each training sample falls into\n",
    "2. The actual leaf weights stored by LightGBM"
   ]
  },
  {
   "cell_type": "code",
   "metadata": {
    "ExecuteTime": {
     "end_time": "2025-10-14T09:45:22.829822Z",
     "start_time": "2025-10-14T09:45:22.818905Z"
    }
   },
   "source": [
    "# Get leaf assignments for each sample\n",
    "leaf_indices = model.predict(X_train, num_iteration=1, pred_leaf=True).flatten()\n",
    "\n",
    "# Extract actual leaf weights from the model\n",
    "tree_df = model.trees_to_dataframe()\n",
    "leaf_nodes = tree_df[tree_df['split_gain'].isna()].copy()  # Leaf nodes have no split\n",
    "leaf_nodes['leaf_num'] = leaf_nodes['node_index'].str.extract(r'L(\\d+)').astype(int)\n",
    "leaf_value_map = dict(zip(leaf_nodes['leaf_num'], leaf_nodes['value']))\n",
    "\n",
    "print(f\"Number of leaves: {len(leaf_value_map)}\")\n",
    "print(f\"Unique leaf assignments: {np.unique(leaf_indices)}\")\n",
    "print(f\"\\nSample of actual leaf weights from LightGBM:\")\n",
    "for leaf_id in sorted(list(leaf_value_map.keys())[:5]):\n",
    "    print(f\"  Leaf {leaf_id}: w = {leaf_value_map[leaf_id]:.6f}\")"
   ],
   "outputs": [
    {
     "name": "stdout",
     "output_type": "stream",
     "text": [
      "Number of leaves: 15\n",
      "Unique leaf assignments: [ 0  1  2  3  4  5  6  7  8  9 10 11 12 13 14]\n",
      "\n",
      "Sample of actual leaf weights from LightGBM:\n",
      "  Leaf 0: w = -89.803428\n",
      "  Leaf 3: w = -69.701744\n",
      "  Leaf 5: w = -29.439445\n",
      "  Leaf 6: w = -16.978203\n",
      "  Leaf 11: w = -22.564865\n"
     ]
    }
   ],
   "execution_count": 4
  },
  {
   "cell_type": "markdown",
   "metadata": {},
   "source": [
    "## Verification Part 1: Leaf Weights Match the Formula\n",
    "\n",
    "Now we'll compute leaf weights using the formula and compare them to LightGBM's actual values:\n",
    "\n",
    "$$w_j^{\\text{computed}} = \\eta \\cdot \\left(-\\frac{G_j}{H_j + \\lambda}\\right) = 0.3 \\cdot \\left(-\\frac{\\sum_{i \\in R_j} g_i}{\\sum_{i \\in R_j} h_i + 0.5}\\right)$$"
   ]
  },
  {
   "cell_type": "code",
   "metadata": {
    "ExecuteTime": {
     "end_time": "2025-10-14T09:45:22.844384Z",
     "start_time": "2025-10-14T09:45:22.837070Z"
    }
   },
   "source": [
    "# Extract parameters\n",
    "eta = params['learning_rate']\n",
    "lambda_l2 = params['lambda_l2']\n",
    "\n",
    "# Storage for comparison\n",
    "actual_weights = []\n",
    "computed_weights = []\n",
    "leaf_sizes = []\n",
    "\n",
    "print(f\"Formula: w_j = η · (-Σg_i / (Σh_i + λ))\")\n",
    "print(f\"Parameters: η={eta}, λ={lambda_l2}\\n\")\n",
    "\n",
    "print(\"{:<10} {:<15} {:<15} {:<15} {:<12}\".format(\n",
    "    \"Leaf\", \"Actual w_j\", \"Computed w_j\", \"Error\", \"N_samples\"))\n",
    "print(\"-\" * 75)\n",
    "\n",
    "for leaf_id in sorted(np.unique(leaf_indices)):\n",
    "    mask = (leaf_indices == leaf_id)\n",
    "    n_samples = mask.sum()\n",
    "    \n",
    "    # Sum gradients and Hessians in this leaf\n",
    "    G_j = gradients[mask].sum()\n",
    "    H_j = hessians[mask].sum()\n",
    "    \n",
    "    # Apply formula\n",
    "    w_j_computed = eta * (-G_j / (H_j + lambda_l2))\n",
    "    w_j_actual = leaf_value_map[int(leaf_id)]\n",
    "    \n",
    "    error = abs(w_j_actual - w_j_computed)\n",
    "    \n",
    "    actual_weights.append(w_j_actual)\n",
    "    computed_weights.append(w_j_computed)\n",
    "    leaf_sizes.append(n_samples)\n",
    "    \n",
    "    print(f\"{leaf_id:<10} {w_j_actual:<15.6f} {w_j_computed:<15.6f} {error:<15.2e} {n_samples:<12}\")\n",
    "\n",
    "actual_weights = np.array(actual_weights)\n",
    "computed_weights = np.array(computed_weights)"
   ],
   "outputs": [
    {
     "name": "stdout",
     "output_type": "stream",
     "text": [
      "Formula: w_j = η · (-Σg_i / (Σh_i + λ))\n",
      "Parameters: η=0.3, λ=0.5\n",
      "\n",
      "Leaf       Actual w_j      Computed w_j    Error           N_samples   \n",
      "---------------------------------------------------------------------------\n",
      "0          -89.803428      -89.803429      6.32e-07        62          \n",
      "1          -66.485838      -66.485838      1.81e-07        20          \n",
      "2          -16.484145      -16.484145      3.93e-08        28          \n",
      "3          -69.701744      -69.701743      2.67e-07        28          \n",
      "4          91.781561       91.781561       5.58e-08        68          \n",
      "5          -29.439445      -29.439445      1.42e-07        55          \n",
      "6          -16.978203      -16.978203      1.80e-07        74          \n",
      "7          -5.895929       -5.895929       7.67e-08        49          \n",
      "8          -14.786499      -14.786499      1.92e-07        27          \n",
      "9          37.008983       37.008983       5.94e-08        64          \n",
      "10         45.140052       45.140052       4.16e-08        79          \n",
      "11         -22.564865      -22.564865      1.22e-08        69          \n",
      "12         -13.617065      -13.617065      3.76e-08        56          \n",
      "13         30.433308       30.433308       6.31e-09        76          \n",
      "14         26.782495       26.782495       1.27e-07        45          \n"
     ]
    }
   ],
   "execution_count": 5
  },
  {
   "cell_type": "markdown",
   "metadata": {},
   "source": "## Summary of Leaf Weight Verification"
  },
  {
   "cell_type": "code",
   "metadata": {
    "ExecuteTime": {
     "end_time": "2025-10-14T09:45:22.885386Z",
     "start_time": "2025-10-14T09:45:22.881104Z"
    }
   },
   "source": [
    "# Compute statistics\n",
    "mae = np.mean(np.abs(actual_weights - computed_weights))\n",
    "rmse = np.sqrt(np.mean((actual_weights - computed_weights)**2))\n",
    "max_error = np.max(np.abs(actual_weights - computed_weights))\n",
    "\n",
    "print(\"=\" * 80)\n",
    "print(\"SUMMARY: Leaf Weights\")\n",
    "print(\"=\" * 80)\n",
    "print(f\"Number of leaves: {len(actual_weights)}\")\n",
    "print(f\"Mean Absolute Error between actual and computed weights: {mae:.2e}\")\n",
    "print(f\"Root Mean Squared Error between actual and computed weights: {rmse:.2e}\")\n",
    "print(f\"Maximum Error between actual and computed weights: {max_error:.2e}\")\n",
    "\n",
    "if max_error < 1e-6:\n",
    "    print(\"\\n✓✓✓ VERIFICATION SUCCESSFUL!\")\n",
    "    print(\"The formula is EXACT (errors are only due to floating point precision)\")\n",
    "else:\n",
    "    print(\"\\n✗ Verification failed - errors exceed machine precision\")"
   ],
   "outputs": [
    {
     "name": "stdout",
     "output_type": "stream",
     "text": [
      "================================================================================\n",
      "SUMMARY: Leaf Weights\n",
      "================================================================================\n",
      "Number of leaves: 15\n",
      "Mean Absolute Error between actual and computed weights: 1.37e-07\n",
      "Root Mean Squared Error between actual and computed weights: 2.04e-07\n",
      "Maximum Error between actual and computed weights: 6.32e-07\n",
      "\n",
      "✓✓✓ VERIFICATION SUCCESSFUL!\n",
      "The formula is EXACT (errors are only due to floating point precision)\n"
     ]
    }
   ],
   "execution_count": 6
  },
  {
   "cell_type": "markdown",
   "metadata": {},
   "source": [
    "## Verification Part 2: model.predict() Matches Formula-Based Predictions\n",
    "\n",
    "Now we verify that predictions from `model.predict()` exactly match what we get by:\n",
    "1. Finding which leaf each sample falls into\n",
    "2. Looking up that leaf's weight\n",
    "\n",
    "This proves: $\\hat{y}_i = w_{j(x_i)}$ where $j(x_i)$ is the leaf assignment for sample $i$."
   ]
  },
  {
   "cell_type": "code",
   "metadata": {
    "ExecuteTime": {
     "end_time": "2025-10-14T09:45:22.952774Z",
     "start_time": "2025-10-14T09:45:22.946449Z"
    }
   },
   "source": [
    "# Get predictions from LightGBM\n",
    "model_predictions = model.predict(X_train, num_iteration=1)\n",
    "\n",
    "# Manually compute predictions using formula-derived leaf weights\n",
    "manual_predictions = np.zeros(len(X_train))\n",
    "unique_leaves_sorted = sorted(np.unique(leaf_indices))\n",
    "\n",
    "for i, leaf_id in enumerate(leaf_indices):\n",
    "    # Find which leaf this sample falls into and get its weight\n",
    "    leaf_idx = unique_leaves_sorted.index(leaf_id)\n",
    "    manual_predictions[i] = computed_weights[leaf_idx]\n",
    "\n",
    "# Compare\n",
    "pred_mae = np.mean(np.abs(model_predictions - manual_predictions))\n",
    "pred_rmse = np.sqrt(np.mean((model_predictions - manual_predictions)**2))\n",
    "pred_max_error = np.max(np.abs(model_predictions - manual_predictions))\n",
    "\n",
    "print(\"=\" * 80)\n",
    "print(\"VERIFICATION: model.predict() vs formula-based predictions\")\n",
    "print(\"=\" * 80)\n",
    "print(f\"Mean Absolute Error between model.predict() and formula-based: {pred_mae:.2e}\")\n",
    "print(f\"Root Mean Squared Error between model.predict() and formula-based: {pred_rmse:.2e}\")\n",
    "print(f\"Maximum Error between model.predict() and formula-based: {pred_max_error:.2e}\")"
   ],
   "outputs": [
    {
     "name": "stdout",
     "output_type": "stream",
     "text": [
      "================================================================================\n",
      "VERIFICATION: model.predict() vs formula-based predictions\n",
      "================================================================================\n",
      "Mean Absolute Error between model.predict() and formula-based: 1.27e-07\n",
      "Root Mean Squared Error between model.predict() and formula-based: 2.05e-07\n",
      "Maximum Error between model.predict() and formula-based: 6.32e-07\n"
     ]
    }
   ],
   "execution_count": 7
  },
  {
   "cell_type": "markdown",
   "metadata": {},
   "source": [
    "## Show Sample Predictions"
   ]
  },
  {
   "cell_type": "code",
   "metadata": {
    "ExecuteTime": {
     "end_time": "2025-10-14T09:45:22.967697Z",
     "start_time": "2025-10-14T09:45:22.963552Z"
    }
   },
   "source": [
    "print(\"\\n{:<10} {:<20} {:<20} {:<15} {:<10}\".format(\n",
    "    \"Sample\", \"model.predict()\", \"Formula-based\", \"Error\", \"Leaf\"))\n",
    "print(\"-\" * 80)\n",
    "\n",
    "for i in range(min(10, len(X_train))):\n",
    "    error = abs(model_predictions[i] - manual_predictions[i])\n",
    "    print(f\"{i:<10} {model_predictions[i]:<20.6f} {manual_predictions[i]:<20.6f} {error:<15.2e} {leaf_indices[i]:<10}\")\n",
    "\n",
    "if pred_max_error < 1e-6:\n",
    "    print(\"\\n✓✓✓ PERFECT MATCH!\")\n",
    "    print(\"model.predict() exactly equals the formula-based predictions!\")\n",
    "    print(\"\\nThis proves the complete chain:\")\n",
    "    print(\"  1. Leaf weights: w_j = η · (-Σg_i / (Σh_i + λ))\")\n",
    "    print(\"  2. Predictions: ŷ_i = w_j where j = leaf(x_i)\")"
   ],
   "outputs": [
    {
     "name": "stdout",
     "output_type": "stream",
     "text": [
      "\n",
      "Sample     model.predict()      Formula-based        Error           Leaf      \n",
      "--------------------------------------------------------------------------------\n",
      "0          -16.978203           -16.978203           1.80e-07        6         \n",
      "1          -89.803428           -89.803429           6.32e-07        0         \n",
      "2          30.433308            30.433308            6.31e-09        13        \n",
      "3          -16.484145           -16.484145           3.93e-08        2         \n",
      "4          -22.564865           -22.564865           1.22e-08        11        \n",
      "5          30.433308            30.433308            6.31e-09        13        \n",
      "6          91.781561            91.781561            5.58e-08        4         \n",
      "7          37.008983            37.008983            5.94e-08        9         \n",
      "8          -16.978203           -16.978203           1.80e-07        6         \n",
      "9          91.781561            91.781561            5.58e-08        4         \n",
      "\n",
      "✓✓✓ PERFECT MATCH!\n",
      "model.predict() exactly equals the formula-based predictions!\n",
      "\n",
      "This proves the complete chain:\n",
      "  1. Leaf weights: w_j = η · (-Σg_i / (Σh_i + λ))\n",
      "  2. Predictions: ŷ_i = w_j where j = leaf(x_i)\n"
     ]
    }
   ],
   "execution_count": 8
  }
 ],
 "metadata": {
  "kernelspec": {
   "display_name": "Python 3",
   "language": "python",
   "name": "python3"
  },
  "language_info": {
   "codemirror_mode": {
    "name": "ipython",
    "version": 3
   },
   "file_extension": ".py",
   "mimetype": "text/x-python",
   "name": "python",
   "nbconvert_exporter": "python",
   "pygments_lexer": "ipython3",
   "version": "3.8.0"
  }
 },
 "nbformat": 4,
 "nbformat_minor": 4
}
